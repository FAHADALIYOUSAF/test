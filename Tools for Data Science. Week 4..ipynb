{
    "cells": [
        {
            "cell_type": "markdown",
            "metadata": {
                "collapsed": true
            },
            "source": [
                "# My Jupyter Notebook on IBM Watson Studio"
            ]
        },
        {
            "cell_type": "markdown",
            "metadata": {},
            "source": [
                "<b> FAHAD ALI YOUSAF </b> \n",
                "\n",
                "computer scientist"
            ]
        },
        {
            "cell_type": "markdown",
            "metadata": {},
            "source": [
                "_Data Science is the future.That is why I am interested in DS._"
            ]
        },
        {
            "cell_type": "markdown",
            "metadata": {},
            "source": [
                "### The next cell will calculate 1+1 yay:"
            ]
        },
        {
            "cell_type": "code",
            "execution_count": 1,
            "metadata": {
                "scrolled": true
            },
            "outputs": [
                {
                    "name": "stdout",
                    "output_type": "stream",
                    "text": [
                        "2\n"
                    ]
                }
            ],
            "source": [
                "a=1\n",
                "b=1\n",
                "c=a+b\n",
                "print(c)"
            ]
        },
        {
            "cell_type": "markdown",
            "metadata": {},
            "source": [
                "\n",
                "1. There is the chance info is usefull\n",
                "2. It is not a lot for 11 months \n",
                "\n",
                " \n",
                "\n",
                "* `Try it if you can`\n",
                "   \n",
                "   \n",
                "* Here is the link to course: [IBM Data Science Professional Certificate](https://www.coursera.org/professional-certificates/ibm-data-science \"Enroll\")\n",
                "  \n",
                "# The example of `wrong` marketing:  \"Did you know Watson is gay?\" or \"How to make homophobia stronger?\"\n",
                "![alt text][logo]\n",
                "\n",
                "[logo]: https://i.imgur.com/Tm1Gm8x.jpg \"IBM company had some problems and wants to hype by doing wrong maketing like this\"\n",
                "   \n",
                "   \n",
                "\n",
                " "
            ]
        },
        {
            "cell_type": "code",
            "execution_count": null,
            "metadata": {},
            "outputs": [],
            "source": []
        }
    ],
    "metadata": {
        "kernelspec": {
            "display_name": "Python 3.10.0 64-bit",
            "language": "python",
            "name": "python3"
        },
        "language_info": {
            "codemirror_mode": {
                "name": "ipython",
                "version": 3
            },
            "file_extension": ".py",
            "mimetype": "text/x-python",
            "name": "python",
            "nbconvert_exporter": "python",
            "pygments_lexer": "ipython3",
            "version": "3.10.0"
        },
        "vscode": {
            "interpreter": {
                "hash": "0098c37b60d10129a3f53add70b075a52196ad7dda8f57660ac5aaf4ced1b77f"
            }
        }
    },
    "nbformat": 4,
    "nbformat_minor": 1
}
